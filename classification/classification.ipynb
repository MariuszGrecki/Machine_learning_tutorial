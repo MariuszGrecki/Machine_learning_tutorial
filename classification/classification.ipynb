{
  "nbformat": 4,
  "nbformat_minor": 0,
  "metadata": {
    "colab": {
      "provenance": [],
      "authorship_tag": "ABX9TyMN9qV6YFIRAg7+ym0ICvZO",
      "include_colab_link": true
    },
    "kernelspec": {
      "name": "python3",
      "display_name": "Python 3"
    },
    "language_info": {
      "name": "python"
    }
  },
  "cells": [
    {
      "cell_type": "markdown",
      "metadata": {
        "id": "view-in-github",
        "colab_type": "text"
      },
      "source": [
        "<a href=\"https://colab.research.google.com/github/MariuszGrecki/Machine_learning_tutorial/blob/main/classification/classification.ipynb\" target=\"_parent\"><img src=\"https://colab.research.google.com/assets/colab-badge.svg\" alt=\"Open In Colab\"/></a>"
      ]
    },
    {
      "cell_type": "markdown",
      "source": [
        "# Klasyfikacja\n",
        "Klasyfikacja to jedna z głównych dziedzin uczenia maszynowego, która polega na przypisywaniu obiektów lub danych do jednej z predefiniowanych klas lub etykiet na podstawie ich cech lub właściwości. Celem klasyfikacji jest zrozumienie, jakie cechy obiektów determinują ich przynależność do określonej klasy i wykorzystanie tej wiedzy do automatycznego przypisywania nowych obiektów do odpowiednich klas. Klasyfikacja jest często używana w problemach, gdzie zależy nam na rozpoznawaniu lub przewidywaniu kategorii lub klas, do których należą dane.\n",
        "\n",
        "\n",
        "\n",
        "**Główne cechy klasyfikacji to:**\n",
        "\n",
        "**Zbiór uczący:** Klasyfikacja wymaga dostępu do zbioru danych uczących, który\n",
        "zawiera przykłady obiektów wraz z przypisanymi im klasami lub etykietami. Ten zbiór jest używany do treningu modelu klasyfikacji.\n",
        "\n",
        "**Model klasyfikacyjny:** Model klasyfikacyjny to matematyczna reprezentacja, która jest trenowana na podstawie danych uczących w celu nauki zależności między cechami obiektów a ich klasami. Model jest używany do dokonywania predykcji na nowych danych.\n",
        "\n",
        "**Klasy lub etykiety:** Klasy lub etykiety to kategorie lub kategorie, do których przypisuje się obiekty. Na przykład, w problemie klasyfikacji spamu i nie-spamu, klasy to \"spam\" i \"nie-spam\".\n",
        "\n",
        "**Cechy lub atrybuty:** Cechy lub atrybuty to właściwości lub informacje opisujące obiekty, które są używane przez model do dokonywania predykcji. Cechy są zazwyczaj reprezentowane jako wektory liczb lub dane numeryczne.\n",
        "\n",
        "**Trening modelu:** Proces treningu modelu polega na dostosowywaniu parametrów modelu na podstawie danych uczących, aby model mógł dokładnie przewidywać klasy obiektów.\n",
        "\n",
        "**Testowanie i walidacja:** Po treningu modelu konieczne jest przetestowanie jego wydajności na danych, które nie były używane w procesie treningu. W tym celu często stosuje się podział danych na zbiór treningowy i zbiór testowy oraz procedurę walidacji krzyżowej.\n",
        "\n",
        "**Wybór modelu:** W zależności od rodzaju problemu i danych można wybierać różne rodzaje modeli klasyfikacyjnych, takie jak regresja logistyczna, drzewa decyzyjne, maszyna wektorów nośnych (SVM), sieci neuronowe i wiele innych.\n",
        "\n",
        "**Miary wydajności:** Istnieje wiele miar wydajności klasyfikacji, takich jak dokładność, precyzja, czułość, specyficzność, F1-score, krzywa ROC itp., które są używane do oceny jakości klasyfikatora.\n",
        "\n",
        "\n",
        "\n",
        "Klasyfikacja jest szeroko stosowana w różnych dziedzinach, w tym w przetwarzaniu języka naturalnego, wizji komputerowej, medycynie, finansach, marketingu, przemysłu, oraz wielu innych, gdzie istnieje potrzeba automatycznego rozpoznawania lub przypisywania danych do odpowiednich kategorii lub klas. Klasyfikacja jest jednym z najważniejszych narzędzi w uczeniu maszynowym i analizie danych, ze względu na swoją zdolność do rozwiązywania różnorodnych problemów klasyfikacyjnych."
      ],
      "metadata": {
        "id": "b1Vj-Krf2rNW"
      }
    }
  ]
}