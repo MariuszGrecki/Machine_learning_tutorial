{
  "nbformat": 4,
  "nbformat_minor": 0,
  "metadata": {
    "colab": {
      "provenance": [],
      "authorship_tag": "ABX9TyOq5j3I4bwQ9lFBR+ANhA33",
      "include_colab_link": true
    },
    "kernelspec": {
      "name": "python3",
      "display_name": "Python 3"
    },
    "language_info": {
      "name": "python"
    }
  },
  "cells": [
    {
      "cell_type": "markdown",
      "metadata": {
        "id": "view-in-github",
        "colab_type": "text"
      },
      "source": [
        "<a href=\"https://colab.research.google.com/github/MariuszGrecki/Machine_learning_tutorial/blob/main/case_studies/04_movie_reviews.ipynb\" target=\"_parent\"><img src=\"https://colab.research.google.com/assets/colab-badge.svg\" alt=\"Open In Colab\"/></a>"
      ]
    },
    {
      "cell_type": "code",
      "execution_count": 1,
      "metadata": {
        "colab": {
          "base_uri": "https://localhost:8080/",
          "height": 35
        },
        "id": "pTJDsV4cLKco",
        "outputId": "2d100c3d-861a-4ce9-b5ae-540eb9c5e965"
      },
      "outputs": [
        {
          "output_type": "execute_result",
          "data": {
            "text/plain": [
              "'1.2.2'"
            ],
            "application/vnd.google.colaboratory.intrinsic+json": {
              "type": "string"
            }
          },
          "metadata": {},
          "execution_count": 1
        }
      ],
      "source": [
        "import numpy as np\n",
        "import pandas as pd\n",
        "import plotly.express as px\n",
        "import sklearn\n",
        "\n",
        "np.random.seed(42)\n",
        "np.set_printoptions(precision=6, suppress=True, edgeitems=10, linewidth=1000, formatter=dict(float=lambda x: f'{x:.2f}'))\n",
        "sklearn.__version__"
      ]
    },
    {
      "cell_type": "code",
      "source": [
        "!wget https://raw.githubusercontent.com/nltk/nltk_data/gh-pages/packages/corpora/movie_reviews.zip"
      ],
      "metadata": {
        "colab": {
          "base_uri": "https://localhost:8080/"
        },
        "id": "m0vkVwKILQmU",
        "outputId": "4493053b-31d5-47fd-d4b3-78c76fcc1f7c"
      },
      "execution_count": 2,
      "outputs": [
        {
          "output_type": "stream",
          "name": "stdout",
          "text": [
            "--2024-06-09 08:47:05--  https://raw.githubusercontent.com/nltk/nltk_data/gh-pages/packages/corpora/movie_reviews.zip\n",
            "Resolving raw.githubusercontent.com (raw.githubusercontent.com)... 185.199.109.133, 185.199.110.133, 185.199.108.133, ...\n",
            "Connecting to raw.githubusercontent.com (raw.githubusercontent.com)|185.199.109.133|:443... connected.\n",
            "HTTP request sent, awaiting response... 200 OK\n",
            "Length: 4004848 (3.8M) [application/zip]\n",
            "Saving to: ‘movie_reviews.zip’\n",
            "\n",
            "\rmovie_reviews.zip     0%[                    ]       0  --.-KB/s               \rmovie_reviews.zip   100%[===================>]   3.82M  --.-KB/s    in 0.02s   \n",
            "\n",
            "2024-06-09 08:47:05 (217 MB/s) - ‘movie_reviews.zip’ saved [4004848/4004848]\n",
            "\n"
          ]
        }
      ]
    },
    {
      "cell_type": "code",
      "source": [
        "!unzip -q movie_reviews.zip"
      ],
      "metadata": {
        "id": "g28BJ5z9Lf-i"
      },
      "execution_count": 3,
      "outputs": []
    },
    {
      "cell_type": "code",
      "source": [
        "!pwd\n",
        "!ls"
      ],
      "metadata": {
        "colab": {
          "base_uri": "https://localhost:8080/"
        },
        "id": "KjgjD0MLLobt",
        "outputId": "5d4e1a6c-ddfe-4924-ae6a-bd80217e93b4"
      },
      "execution_count": 4,
      "outputs": [
        {
          "output_type": "stream",
          "name": "stdout",
          "text": [
            "/content\n",
            "movie_reviews  movie_reviews.zip  sample_data\n"
          ]
        }
      ]
    },
    {
      "cell_type": "code",
      "source": [
        "from sklearn.datasets import load_files\n",
        "raw_movie = load_files('movie_reviews')\n",
        "movie = raw_movie.copy()\n",
        "movie.keys()"
      ],
      "metadata": {
        "colab": {
          "base_uri": "https://localhost:8080/"
        },
        "id": "PeZLyusRLz1L",
        "outputId": "2daaf87f-e643-4072-c2ec-cff2bd7ec01a"
      },
      "execution_count": 5,
      "outputs": [
        {
          "output_type": "execute_result",
          "data": {
            "text/plain": [
              "dict_keys(['data', 'filenames', 'target_names', 'target', 'DESCR'])"
            ]
          },
          "metadata": {},
          "execution_count": 5
        }
      ]
    },
    {
      "cell_type": "markdown",
      "source": [
        "# Eksploracja i przygotowanie danych"
      ],
      "metadata": {
        "id": "pMVVJ2OrMCj-"
      }
    },
    {
      "cell_type": "code",
      "source": [
        "movie['data'][:10]"
      ],
      "metadata": {
        "colab": {
          "base_uri": "https://localhost:8080/"
        },
        "id": "v-ovPsWeMA_f",
        "outputId": "93438dc9-5496-4c5f-b4b0-f6b2174be624"
      },
      "execution_count": 6,
      "outputs": [
        {
          "output_type": "execute_result",
          "data": {
            "text/plain": [
              "[b\"arnold schwarzenegger has been an icon for action enthusiasts , since the late 80's , but lately his films have been very sloppy and the one-liners are getting worse . \\nit's hard seeing arnold as mr . freeze in batman and robin , especially when he says tons of ice jokes , but hey he got 15 million , what's it matter to him ? \\nonce again arnold has signed to do another expensive blockbuster , that can't compare with the likes of the terminator series , true lies and even eraser . \\nin this so called dark thriller , the devil ( gabriel byrne ) has come upon earth , to impregnate a woman ( robin tunney ) which happens every 1000 years , and basically destroy the world , but apparently god has chosen one man , and that one man is jericho cane ( arnold himself ) . \\nwith the help of a trusty sidekick ( kevin pollack ) , they will stop at nothing to let the devil take over the world ! \\nparts of this are actually so absurd , that they would fit right in with dogma . \\nyes , the film is that weak , but it's better than the other blockbuster right now ( sleepy hollow ) , but it makes the world is not enough look like a 4 star film . \\nanyway , this definitely doesn't seem like an arnold movie . \\nit just wasn't the type of film you can see him doing . \\nsure he gave us a few chuckles with his well known one-liners , but he seemed confused as to where his character and the film was going . \\nit's understandable , especially when the ending had to be changed according to some sources . \\naside form that , he still walked through it , much like he has in the past few films . \\ni'm sorry to say this arnold but maybe these are the end of your action days . \\nspeaking of action , where was it in this film ? \\nthere was hardly any explosions or fights . \\nthe devil made a few places explode , but arnold wasn't kicking some devil butt . \\nthe ending was changed to make it more spiritual , which undoubtedly ruined the film . \\ni was at least hoping for a cool ending if nothing else occurred , but once again i was let down . \\ni also don't know why the film took so long and cost so much . \\nthere was really no super affects at all , unless you consider an invisible devil , who was in it for 5 minutes tops , worth the overpriced budget . \\nthe budget should have gone into a better script , where at least audiences could be somewhat entertained instead of facing boredom . \\nit's pitiful to see how scripts like these get bought and made into a movie . \\ndo they even read these things anymore ? \\nit sure doesn't seem like it . \\nthankfully gabriel's performance gave some light to this poor film . \\nwhen he walks down the street searching for robin tunney , you can't help but feel that he looked like a devil . \\nthe guy is creepy looking anyway ! \\nwhen it's all over , you're just glad it's the end of the movie . \\ndon't bother to see this , if you're expecting a solid action flick , because it's neither solid nor does it have action . \\nit's just another movie that we are suckered in to seeing , due to a strategic marketing campaign . \\nsave your money and see the world is not enough for an entertaining experience . \\n\",\n",
              " b\"good films are hard to find these days . \\ngreat films are beyond rare . \\nproof of life , russell crowe's one-two punch of a deft kidnap and rescue thriller , is one of those rare gems . \\na taut drama laced with strong and subtle acting , an intelligent script , and masterful directing , together it delivers something virtually unheard of in the film industry these days , genuine motivation in a story that rings true . \\nconsider the strange coincidence of russell crowe's character in proof of life making the moves on a distraught wife played by meg ryan's character in the film -- all while the real russell crowe was hitching up with married woman meg ryan in the outside world . \\ni haven't seen this much chemistry between actors since mcqueen and mcgraw teamed up in peckinpah's masterpiece , the getaway . \\nbut enough with the gossip , let's get to the review . \\nthe film revolves around the kidnapping of peter bowman ( david morse ) , an american engineer working in south america who is kidnapped during a mass ambush of civilians by anti-government soldiers . \\nupon discovering his identity , the rebel soldiers decide to ransom him for $6 million . \\nthe only problem is that the company peter bowman works for is being auctioned off , and no one will step forward with the money . \\nwith no choice available to her , bowman's wife alice ( ryan ) hires terry thorne ( crowe ) , a highly skilled negotiator and rescue operative , to arrange the return of her husband . \\nbut when things go wrong -- as they always do in these situations -- terry and his team ( which includes the most surprising casting choice of the year : david caruso ) take matters into their own hands . \\nthe film is notable in that it takes this very simple story line and creates a complex and intelligent character-driven vehicle filled with well-written dialogue , shades of motivation , and convincing acting by all the actors . \\nthe script is based on both a book ( the long march to freedom ) and a magazine article pertaining to kidnap/ransom situations , and the story has been sharply pieced together by tony gilroy , screenwriter of the devil's advocate and dolores claiborne . \\nthe biggest surprise for me was not the chemistry between crowe and ryan , but that between crowe and david caruso . \\ndug out from b-movie hell , caruso pulls off a gutsy performance as crowe's right hand gun while providing most of the film's humor . \\nryan cries a lot and smokes too many cigarettes , david morse ends up getting everyone at the guerilla camp to hate him , and crowe provides another memorable acting turn as the stoic , gunslinger character of terry thorne . \\nthe most memorable pieces of the film lie in its action scenes . \\nthe bulk of those scenes , which bookend the movie , work extremely well as establishment and closure devices for all of the story's characters . \\nthe scenes are skillfully crafted and executed with amazing accuracy and poise . \\ndirector taylor hackford mixes both his old-school style of filmmaking with the dizziness of a lars von trier film . \\nproof of life is a thinking man's action movie . \\nit is a film about the choices men and women make in the face of love and war , and the sacrifices one makes for those choices -- the sacrifices that help you sleep at night . \\n\",\n",
              " b\"quaid stars as a man who has taken up the proffesion of dragonslayer after he feels he is betrayed by a dragon early in the movie . \\nhe runs into the last dragon in existence , and there is a genuinely amusing battle between the two which results in a standoff where quaid is in the dragons mouth , but has his sword pointed at the dragons brain . \\neventually , they decide to call a truce , and they work out a deal . \\nsince he is the last dragon , he will pretend to die and quaid will be able to get paid for it . \\ntheir scam works at first , until they come to a town without any money . \\ninstead the town sacrifices a girl to the dragon , but of course , draco is a nice droagon , so he won't eat her . there is however a very amusing scene where draco is hitting on the young girl . \\nof course , as you can probably tell by the plot , this is a silly movie , but it does know when to take itself seriously at the right times , unlike eddie , which was serious all the time . \\nyou could probably call this a medieval comedy , because there are more laughs here than in eddie and spy hard combined . \\ndennis quaid makes a fine hero . \\npete posthlewaite provides some ghreat comedy as a monk who journeys with them . \\ndina meyer is appealing as the sacrificed girl . \\nbut lets face it , the movie is really about the dragon , and what an amazing creation he is . \\nconnery's voice and ilm team up to provide us with a truly magnificent dragon . \\nso , if you are going to see this movie for a strong hard core medieval epic , you are going to the wrong movie . \\nif you are going because of the dragon , you will not be dissapointed , and you will be provided with plenty of laughs that smooth out the boring parts in the script . \\n\",\n",
              " b'we could paraphrase michelle pfieffer\\'s character in dangerous minds and say that beyond rangoon starts with an \" a . \" \\nthat\\'s fair enough . \\nall movies , like all school children , should be given the benefit of the doubt . \\nthe chance to succeed . \\nafter all , we like to think that the right combination of talent and effort can do wonders . \\nmountains can be moved , and good movies can be made . \\nyeah right . \\nchildren fail , as do films . \\nas does director john boorman\\'s latest . \\nthe success of beyond rangoon hinges on the believability of patricia arquette ( ed wood , true romance ) as the busty westerner-in-peril wandering about 1988 burma without a passport . \\nthough we can stomach the mild plot contrivances that get her there , it\\'s a tougher task to overlook the actress . \\nshe\\'s a lightweight . \\nas the first scene ( with narration ! ) \\ndemonstrates , she doesn\\'t have * nearly * enough range for the emotions that her character--a mother fleeing the memories of a murdered husband and son--is supposed to show . \\nshe may give a stronger performance than , say , keanu reeves in a walk in the clouds , by not by much . \\nbeyond rangoon is a very physically appealing film , thanks to the practiced craftsmanship of john boorman ( deliverance , excalibur , hope and glory ) . \\nhe keeps the narrative moving , no matter how muddy the story--or the heroine--gets . \\nwhy he chose arquette remains a mystery , though . \\nmaybe he was thinking that the dramatic weight of the story would overcome any casting deficiencies . \\nbut even after an hour of half-stated political statements and murky mass killings , we * still * don\\'t know enough of what\\'s happening in this country to feel distressed for the characters or their situations . \\nempty exoticism . \\nthe technical credits in beyond rangoon are a curious mix , combining lush jungle photography with bad blue-screen work . \\nalso odd is the obvious dubbing . \\ndone to make some of the foreign characters sound less foreign ? \\nand , is it my mistake , or do the same extras keep reappearing as different soldiers ? ? \\ndoo doo doo doo . \\n[ \" twilight zone \" theme , or opinion of movie . \\nyou be the judge . ] \\n',\n",
              " b\"kolya is one of the richest films i've seen in some time . \\nzdenek sverak plays a confirmed old bachelor ( who's likely to remain so ) , who finds his life as a czech cellist increasingly impacted by the five-year old boy that he's taking care of . \\nthough it ends rather abruptly-- and i'm whining , 'cause i wanted to spend more time with these characters-- the acting , writing , and production values are as high as , if not higher than , comparable american dramas . \\nthis father-and-son delight-- sverak also wrote the script , while his son , jan , directed-- won a golden globe for best foreign language film and , a couple days after i saw it , walked away an oscar . \\nin czech and russian , with english subtitles . \\n\",\n",
              " b'i don\\'t know how many other people have had the idea cross their mind that their life could be an ongoing television show watched by another world of people , but it\\'s something i used to wonder about when i was younger . \\ni can\\'t decide if i first thought it because i watched a lot of tv or because my brother hit me in the head with a baseball bat , but i\\'m pretty sure andrew niccol , screenwriter for the truman show , has had the same curious thought . \\nthe truman show is about a man ( jim carrey ) whose entire life has been engineered by a corporation and marketed to the public . \\nsince birth , he\\'s been living in the fictional island town of seahaven , fla . , which actually exists as a giant domed set just beyond the hollywood sign . \\nall the people in truman burbank\\'s life are actors , and the anonymous townfolk paid extras . \\npeople watch truman\\'s life 24 hours a day , live , with no commercial interruptions . \\nrevenue comes instead from product placement , a staple of contemporary hollywood , with truman\\'s friends and relatives describing their consumer items in cheerful and optimistic tones . \\nthe sun rises and sets on cue and everyone likes everyone else . \\neven if you haven\\'t seen the truman show , you\\'ve probably learned most of the crucial details from the commercials , the trailer and other promotion blitzes . \\nif anything i\\'ve written so far is a surprise to you , then i pity you for making me a primary source for your entertainment news . \\neither way , you should probably know the premise of the truman show going into it , because otherwise you\\'ll probably think it sucks . \\nit begins with jim carrey looking into a mirror , reciting the crucial \" eat me \" scene from alive , wishing his neighbors a good day , afternoon and evening , and living in domestic bliss with his wife ( laura linney ) . \\nbut weird things start happening . \\na stage light comes falling out of the sky , truman hears people tracking his movements on the radio and he swears he sees his dead father . \\nwe learn through a flashback that his father drowned when truman was a child , sailing through a rainstorm . \\nthe death was staged by director christof ( ed harris ) , who wanted to put a fear of water into truman to keep him from leaving the island . \\nsimilar cruel manipulations keep him from stumbling upon the truth , not the least of them truman\\'s best friend marlon ( noah emmerich ) , who assures him he\\'s not in on any conspiracy because the last thing he\\'d ever do is hurt him . \\nas truman\\'s trusting eyes tear over , christof fades up emotional synthesizer music for a worldwide audience of people who apparently never watch anything else . \\nthere\\'s even a daily behind-the-scenes update from harry shearer that captures the highlights of truman\\'s existence . \\nthe key to a movie like this is in finding the right balance between humor and drama , because a premise like this has its obvious implications in both directions . \\nand it all hinges on carrey , who has to balance comic naivet with a real sense of longing and drive to find out what the hell is going on . \\nhe\\'s come a long way from talking butt cheeks in ace ventura . \\nmost fundamentally , it\\'s just plain interesting to follow along as director peter weir shows us just how they can capture a person\\'s life without the person realizing it -- how they coordinate extras , hide cameras and feed automatic lines to actors . \\nthe most interesting thing about the truman show is that most of us can probably imagine some ambitious director pitching a show like this . \\nsure , the most interesting tv genre of the \\'90s has been reality programming and jerry springer\\'s popularity is through the roof , but those people deserve to be humiliated for turning their intimate details over to the airwaves . \\nand when news shows use hidden cameras , it\\'s done in the name of the greater good , not entertainment . \\nbut merge the two and you\\'ve got the truman show . \\nright now , it\\'s implausible -- i mean , the fcc won\\'t let you say the s-word on the air ; do you think they\\'d let you broadcast every detail of a man\\'s life to the entire world without his consent ? \\none day , though , it could happen . \\nand , even though it would mean the end of privacy , people would eat it up . \\nyou know they would . \\n',\n",
              " b'capsule : trippy , hyperspeed action machine from hong kong\\'s accomplished tsui hark . \\nvan damme and rodman have nice chemistry , the stunts are eyepopping , and stuff gets blowed up real good ; what more do you want ? \\ni admit i was all set to loathe double team ; it reeked of cheapjack timing-oriented marketing ( stick dennis rodman in a movie , quick , while he\\'s hot , and do something about jean-claude van damme\\'s flagging career while we\\'re at it ! ) . \\nsurprise -- double team transcends its dumb roots and turns out to be a mess of fun . \\nbring some friends , get some pretzels , and have a blast . \\nvan damme is jack quinn , an ex-agent who is brought back in for \" one last mission \" -- you\\'d think any spy worth his shoe phone would run like hell when he hears those words . \\nbut van damme\\'s character has a pregnant wife who\\'s also a sculptor , and some unpleasant pressure gets used to get him to come through on this mission . \\nhe\\'s been assigned to take down an old enemy , a terrorist named stavros ( mickey rourke , looking oddly subdued ) , who may be back up to his old tricks . \\nin the first showdown between quinn and stavros , the movie wears its ambitions proudly on its sleeve : nonstop action . \\nan amusement park , a hospital , a private \" retired spy \" \\'s retreat , most of rome , various houses , planes , cars and other modes of transport , and the coliseum ( ! ) \\nall become arenas for some of the most bone-rattling shoot-outs and punch-outs filmed . \\nthey are better seen than described and are reason enough to see the film : one jaw-dropping scene has van damme taking on a man who uses a switchblade with his * feet * . \\n ( van damme is a good , dextrous athlete and fighter , but he is often upstaged . ) \\nthere are other nice touches . \\nstavros and quinn both want the same thing : to retire in peace with their families . \\nthat ambition ties them together in various ways , and also humanizes them a bit . \\none of the things about hk action movies is that there\\'s always some form of human element , and that\\'s carried over into this movie as well . \\nit gives weight to scenes that would otherwise be forgettable . \\nalso good is dennis rodman , playing a weapons dealer named yaz -- a character who sticks out like a fistful of broken fingers and who is funny just standing there . \\nrodman is natural on screen ; he\\'s fun to watch , especially when slinging bad guys like basketballs , and deserves to get a movie of his own , based on what\\'s seen here : a lightweight , fast-moving entertainment that showcases all of its pieces excellently . \\n',\n",
              " b'gothic murder-mystery yarns are not a new conceit . \\nin fact , they\\'ve been around in books and on film for many , many years . \\nwithout the proper handling , they come off as old-fashioned , bland , and outdated . \\n \" the gift , \" directed by sam raimi , is a tried-and-true effort that surprises very little , and includes everything from a wide array of suspects and red herrings , to mansions in the deep south with moss trees out front , to the eventual discovery of a waterlogged corpse found in a nearby pond . \\nit\\'s fairly obvious who the killer is ; in fact , i predicted who it would be before the movie began and was correct in my preliminary suspicions . \\nthe film ultimately shouldn\\'t work , but it does , thanks to a sparkling cast that fills each character with so many memorable nuances , the most fun to be had is in simply watching the people interact with each other . \\nannie wilson ( cate blanchett ) is a recently widowed mother of three sons who makes her living giving psychic readings to the residents of her backwater southern hometown . \\nsome of her mainstay clients include valerie barksdale ( hilary swank ) , who is severely abused by her husband donnie ( keanu reeves ) , and buddy cole ( giovanni ribisi ) , an unstable mechanic who is confused by the nightmares he\\'s been having about a mysterious blue diamond that is somehow linked to his father . \\nfor annie , she does not give the readings merely for money , but uses it as a way of seeking solace in finding the good in everyone\\'s future . \\nher late grandmother ( rosemary harris ) told her as a child that it was a gift she was given , and she should always remember that . \\nwhen annie\\'s eldest son is involved in a fight at school , she meets the nice-guy school principal , wayne collins ( greg kinnear ) , whom she finds herself attracted to . \\nbut wayne is engaged to the wealthy jessica king ( katie holmes ) , whom annie immediately gets a negative vibe about . \\nat a party with her best friend linda ( kim dickens ) , annie stumbles upon jessica in a compromising position with lawyer david duncan ( gary cole ) . \\nsoon after , jessica has disappeared , leaving everyone in a frenzy over what could have possibly happened to her , and annie starts to have nightmares and apparitions linking jessica with the vicious redneck donnie barksdale , and the pond behind his home . \\n \" the gift \" may be cliched on a sheer storytelling level , but the performances and tight direction from raimi ( who has redeemed himself for his embarrassing last film , 1999\\'s \" for love of the game \" ) lift the picture up several notches . \\nslowly enveloping the viewer into the many intriguing characters and their individual plights , the disappearance of jessica at the 30-minute mark divulges the movie\\'s true intentions and transforms the proceedings into a taut , at times frightening , horror-mystery . \\nat the center of the film is the exceptional cate blanchett ( 1999\\'s \" the talented mr . ripley \" ) , who turns annie wilson from what could have been little more than a run-of-the-mill protagonist into a very exact , down-to-earth , realistic person with valid troubles and a caring attitude towards those around her . \\nblanchett takes the unextraordinary material and runs with it , giving the entire film a truly classy aura that it otherwise might not have had . \\nwe follow her at every turn because she is so mesmerizing , both as a character and an actress . \\nblanchett isn\\'t the only bright performer , as she is ably supported by one of the best casts of the year . \\nin her first role following her oscar win for 1999\\'s \" boys don\\'t cry , \" hilary swank is excellent as the confused valerie , who seeks guidance from annie , but is too scared to take her biggest advice of all : to leave the grossly abusive donnie . \\nas donnie , keanu reeves ( 2000\\'s \" the watcher \" ) makes an utterly convincing backwoods meanie , so much so that it is difficult to believe he is an actor at all . \\nfor the often-criticized reeves , whose acting abilities have never been the best , this is the biggest compliment he could possibly get , and it is also one of the better performances he has given . \\ngiovanni ribisi ( 2000\\'s \" the boiler room \" ) is heartbreaking as a mentally slow young man who sees annie as his only friend , and wants her to do nothing but help him understand why he is being plagued by bad dreams about his dad . \\nin the small , but pivotal role of the sleazy jessica king , katie holmes ( 2000\\'s \" wonder boys \" ) has turned in yet another stunning supporting turn . \\nher promiscuous role of jessica is one she has never played before , and she is radiant in her few scenes . \\nfinally , kim dickens ( 2000\\'s \" hollow man \" ) makes her usual strong impression as annie\\'s spicy best friend , linda . \\nthe other notable aspect of \" the gift \" is its moody atmosphere that lays such a thickly foreboding air over every scene it\\'s almost suffocating . \\nthanks to cleverly construed editing by arthur coburn and bob murawski , and the successful use of different eerie sounds effects and a very good music score by christopher young , the movie not only achieves a scary undercurrent , but one that is filled with dread . \\nhelped along by a strong screenplay by billy bob thornton and tom epperson , which makes the most of its setting and delightful cast , \" the gift \" is that rarest of thrillers that actually thrills , and offers up a fair share of chills , too . \\nit may not be groundbreakingly original , but it sure is an entertaining ride for the duration of its running time . \\n',\n",
              " b\"what i look for in a movie is not necessarily perfection . \\nsometimes a movie has such strong ideas that despite whatever flaws it may have , i will prefer it to a better-made film that is not as thought-provoking . \\nthe thin red line is flawed but it provokes . \\nterence malick returns to filmmaking 20 years after days of heaven and produces this meditative look at war . \\nunlike this year's saving private ryan , which dwells on war as a necessary evil and explores the moral ambiguities thereof , the thin red line simply says war is waste . \\nwhile that might seem obvious to some , only after experiencing the film do you realize how profound a waste it is . \\nsaving private ryan has an underlying and practical acceptance that war will occur and it has a great cost ; the thin red line says idealistically avoid this at all costs . \\none message is not necessarily more correct than the other . \\nit just depends on one's point of view . \\nin malick's film , war is set in a tropical paradise , and john toll's cinematography is beyond lush . \\nthe setting poses the question , why are we fighting in the face of such beauty ? \\nin saving private ryan , the capture of a german soldier presents the moral quandary of whether to let him go . \\nin the thin red line , the japanese present the moral quandary of war in the first place . \\nthey are just like the americans -- frightened and angry , grieving and praying . \\nall that separates them is war . \\nthe flaw in the thin red line comes in the voice-overs . \\nunbelievable as coming from the characters and sometimes pretentious , sometimes corny , the voice-overs tell us what the images before us already do and are completely unnecessary . \\ndispensing with them , malick could have achieved a tarkovskian grandeur . \\ninstead , he gets distracting self-consciousness . \\naside from that , malick's direction is stunning . \\nthe tracking shots across windswept hills and around transports speeding toward shore are extraordinary . \\nsean penn , elias koteas , and nick nolte give the best performances . \\npenn is subtle as a sergeant trying to hide his humanism , koteas is genuine as a compassionate captain , and nolte startling as a colonel whose blood vessels are about to burst if he cannot win his battle . \\njohn travolta and george clooney are the worst in cameo roles . \\nultimately however , the thin red line's interest is not in the characters and it is not in drama . \\nit has been frequently criticized for its lack of dramatic structure , but malick clearly has different things on his mind . \\nhas no one ever thought that getting dramatic entertainment from war is exploitative ? \\nwhat malick is working with is theme , and in that , the thin red line is most provoking . \\n\",\n",
              " b'the law of crowd pleasing romantic movies states that the two leads must end up together by film\\'s end . \\nif you\\'re not familiar with this law , then maybe you\\'ve seen the trailer for this film which shows that the two leads are together by film\\'s end . \\nnow if you\\'re a regular reader of mine , you\\'ve heard me say this countless times : you know how drive me crazy is going to end , but is the journey to get to that ending worth it ? \\nno , it definitely is not . \\nmelissa joan hart ( from abc\\'s \" sabrina , the teenage witch \" ) likes a hunky stud on the basketball team . \\nadrien grenier is her grungy neighbor who\\'s just broken up with his activist girlfriend . \\napparently he wants to make his ex-girlfriend jealous enough to take him back , and she wants someone to take her to the big year end dance . \\nso the two pretend to date for some reason , but only after hart gives grenier a bath to turn him into a hunky stud . \\nwill grenier like his new popularity and turn on his friends ? \\nwill this crazy scheme work ? \\ndo i care ? \\nthe teen comedy resurgence of late has been surprisingly good in terms of comedy . \\nwhat makes movies like can\\'t hardly wait and 10 things i hate about you work ( and to a lesser extent , she\\'s all that and never been kissed ) is because the writers of those films seem to realize that high school is a joke and write their scripts accordingly . \\ni don\\'t know what the writer\\'s intention was with drive me crazy . \\nthere was some smart comedy in those films to make the obvious endings worth getting to . \\nhere there\\'s nothing . . . \\njust teens whining about who\\'s going to take them to the big dance . \\ndo me a favor kids , go get a job or something . . . \\njust shut the hell up . \\nin all honesty , the best part of this film is the end credits . \\nnow normally when i say that it\\'s followed with the joke \" . . . because the movie is finally over . \" \\nin this case though the end credits really are the most entertaining part of the film . \\nafter the obligatory second playing of britney spears\\' titular song , there\\'s a quick commercial jingle for a burger joint the kids in the film hang out in and a brief rendition of the school song for their high school . \\nnothing great , but more entertaining than anything in the 90 minutes which preceded them . \\nsci-fi fans take note : there are brief appearances from stephen collins ( star trek : the motion picture ) and faye grant ( the tv miniseries \" v \" and \" v : the final battle \" ) . \\n[pg-13] \\n']"
            ]
          },
          "metadata": {},
          "execution_count": 6
        }
      ]
    },
    {
      "cell_type": "code",
      "source": [
        "movie['target'][:10] #zero negatywna, 1 pozytywna"
      ],
      "metadata": {
        "colab": {
          "base_uri": "https://localhost:8080/"
        },
        "id": "H3skbtFIMKUC",
        "outputId": "be826794-9604-4999-8f63-5435b61b6636"
      },
      "execution_count": 7,
      "outputs": [
        {
          "output_type": "execute_result",
          "data": {
            "text/plain": [
              "array([0, 1, 1, 0, 1, 1, 1, 1, 1, 0])"
            ]
          },
          "metadata": {},
          "execution_count": 7
        }
      ]
    },
    {
      "cell_type": "code",
      "source": [
        "movie['target_names']"
      ],
      "metadata": {
        "colab": {
          "base_uri": "https://localhost:8080/"
        },
        "id": "ris1qcqQMQOv",
        "outputId": "34856250-81b0-404a-84cf-be82782e4c42"
      },
      "execution_count": 8,
      "outputs": [
        {
          "output_type": "execute_result",
          "data": {
            "text/plain": [
              "['neg', 'pos']"
            ]
          },
          "metadata": {},
          "execution_count": 8
        }
      ]
    },
    {
      "cell_type": "code",
      "source": [
        "movie['filenames'][:2]"
      ],
      "metadata": {
        "colab": {
          "base_uri": "https://localhost:8080/"
        },
        "id": "w3PBDrX6Maxd",
        "outputId": "3b03575a-cf64-44a1-a16e-341ce84f4127"
      },
      "execution_count": 9,
      "outputs": [
        {
          "output_type": "execute_result",
          "data": {
            "text/plain": [
              "array(['movie_reviews/neg/cv405_21868.txt', 'movie_reviews/pos/cv190_27052.txt'], dtype='<U33')"
            ]
          },
          "metadata": {},
          "execution_count": 9
        }
      ]
    },
    {
      "cell_type": "code",
      "source": [
        "from sklearn.model_selection import train_test_split\n",
        "\n",
        "X_train, X_test, y_train, y_test = train_test_split(movie['data'], movie['target'], random_state=42)\n",
        "\n",
        "print(f'X_train: {len(X_train)}')\n",
        "print(f'X_test: {len(X_test)}')"
      ],
      "metadata": {
        "colab": {
          "base_uri": "https://localhost:8080/"
        },
        "id": "Qp8qp97iMdMx",
        "outputId": "d82c40d9-296c-4c8c-f4e0-a39f67259aa3"
      },
      "execution_count": 10,
      "outputs": [
        {
          "output_type": "stream",
          "name": "stdout",
          "text": [
            "X_train: 1500\n",
            "X_test: 500\n"
          ]
        }
      ]
    },
    {
      "cell_type": "code",
      "source": [
        "X_train[0]"
      ],
      "metadata": {
        "colab": {
          "base_uri": "https://localhost:8080/"
        },
        "id": "bJznfvbyN2c0",
        "outputId": "c802d9ab-014e-4a93-b941-6eb2432f7bd2"
      },
      "execution_count": 11,
      "outputs": [
        {
          "output_type": "execute_result",
          "data": {
            "text/plain": [
              "b'unzipped is a cinematic portrait of isaac mizrahi , an artist whose palette is fabric . \\nostensibly , the film is a documentary , but use of that term requires stretching its meaning . \\nmany scenes appear staged , and a great deal of cutting-and-pasting has been done in the editing room . \\nthe cinema verite effect is a conceit -- genuine spontaneity is at a premium , and everyone is aware of and playing to the camera ( especially would-be actresses like cindy crawford ) . \\ndirector douglas keeve ( who was mizrahi\\'s lover at the time ) freely admits that he \" couldn\\'t care less about the truth \" but was more interested in capturing \" the spirit and love in isaac and in fashion . \" \\ndespite violating nearly every rule of \" legitimate \" documentary film making , however , unzipped is a remarkably enjoyable piece of entertainment . \\nwhile it sheds only a little light on the behind-the-scenes world of the fashion industry , it presents a fascinating , if incomplete , picture of designer mizrahi . \\nthis man is the perfect subject for this kind of study -- he\\'s funny , energetic , and eminently quotable . \\nhe has unusual views on just about everything , from fashion ( \" it\\'s about women not wanting to look like cows \" ) to mary tyler moore ( \" between her and jackie kennedy , they shaped this country \" ) to style ( \" it\\'s almost impossible to have style nowadays without the right dogs \" ) . \\nunzipped also gives a glimpse into the creative process by which mizrahi turns an idea into a dress . \\nit\\'s almost certainly different that anyone would imagine . \\nthe designer draws on a variety of sources for his look , including nanook of the north and old bette davis movies , then enlists the aid of a ouija board to help form the collection . \\nin particular , unzipped traces mizrahi\\'s development of his fall 1994 line from its inception in the spring to the final fashion show , which highlights a number of prominent models , including cindy crawford , naomi campbell , kate bush , and linda evangelista . \\non the technical side , a number of interesting choices were made in filming unzipped . \\na variety of film stocks were used : super 8 , 16 mm black-and-white , and 35 mm color . \\nthere is a purpose to this beyond simple artiness -- the stock often serves as an emotional key to the movie , and , during the climactic fashion show , color is used to show the audience\\'s perspective , while black-and-white is for the behind-the- scenes sequences . \\nnevertheless , some viewers will be put off by this treatment . \\nwhile unzipped isn\\'t an expose on the fashion industry per se , keeve has enough clips of petulant models to make the viewer realize how tame robert altman was with ready to wear . \\noverall , however , this movie is far more about mizrahi than anything else , and only when viewed from that perspective does unzipped succeed . \\nwhen the designer declares that \" everything is frustrating except designing clothes -- that\\'s beautiful and liberating , \" it fits perfectly with the image of him that unzipped has constructed . \\n'"
            ]
          },
          "metadata": {},
          "execution_count": 11
        }
      ]
    },
    {
      "cell_type": "code",
      "source": [
        "from sklearn.feature_extraction.text import TfidfVectorizer\n",
        "\n",
        "tfidf = TfidfVectorizer(max_features=3000) #macierz 3000 redukujemy występowalność do 3000 słów\n",
        "X_train = tfidf.fit_transform(X_train)\n",
        "X_test = tfidf.transform(X_test)\n",
        "\n",
        "print(f'X_train shape: {X_train.shape}')\n",
        "print(f'X_test shape: {X_test.shape}')"
      ],
      "metadata": {
        "colab": {
          "base_uri": "https://localhost:8080/"
        },
        "id": "wnRrjzWfN5PD",
        "outputId": "739221fc-04a8-4f8c-87fe-a9219d5dacbb"
      },
      "execution_count": 12,
      "outputs": [
        {
          "output_type": "stream",
          "name": "stdout",
          "text": [
            "X_train shape: (1500, 3000)\n",
            "X_test shape: (500, 3000)\n"
          ]
        }
      ]
    },
    {
      "cell_type": "markdown",
      "source": [
        "# Trenowanie modelu"
      ],
      "metadata": {
        "id": "Yr2AfrgmOr3D"
      }
    },
    {
      "cell_type": "code",
      "source": [
        "from sklearn.naive_bayes import MultinomialNB\n",
        "\n",
        "classifier = MultinomialNB()\n",
        "classifier.fit(X_train, y_train)\n",
        "classifier.score(X_test, y_test)"
      ],
      "metadata": {
        "colab": {
          "base_uri": "https://localhost:8080/"
        },
        "id": "NZG2MpgMOeew",
        "outputId": "badf8d33-cbd1-4466-e87e-a5189dcfda5f"
      },
      "execution_count": 13,
      "outputs": [
        {
          "output_type": "execute_result",
          "data": {
            "text/plain": [
              "0.804"
            ]
          },
          "metadata": {},
          "execution_count": 13
        }
      ]
    },
    {
      "cell_type": "code",
      "source": [
        "from sklearn.metrics import confusion_matrix\n",
        "\n",
        "y_pred = classifier.predict(X_test)\n",
        "cm = confusion_matrix(y_test, y_pred)\n",
        "cm"
      ],
      "metadata": {
        "colab": {
          "base_uri": "https://localhost:8080/"
        },
        "id": "yFEkMtFYO8k_",
        "outputId": "f0780a24-8671-4dc6-c446-907b457346fb"
      },
      "execution_count": 14,
      "outputs": [
        {
          "output_type": "execute_result",
          "data": {
            "text/plain": [
              "array([[204,  36],\n",
              "       [ 62, 198]])"
            ]
          },
          "metadata": {},
          "execution_count": 14
        }
      ]
    },
    {
      "cell_type": "code",
      "source": [
        "from sklearn.metrics import classification_report\n",
        "\n",
        "print(classification_report(y_test, y_pred, target_names=['negative', 'positive']))"
      ],
      "metadata": {
        "colab": {
          "base_uri": "https://localhost:8080/"
        },
        "id": "DUNGhZDtPNUv",
        "outputId": "fab51168-a98c-4cbb-e3d6-8bf29a78b76d"
      },
      "execution_count": 15,
      "outputs": [
        {
          "output_type": "stream",
          "name": "stdout",
          "text": [
            "              precision    recall  f1-score   support\n",
            "\n",
            "    negative       0.77      0.85      0.81       240\n",
            "    positive       0.85      0.76      0.80       260\n",
            "\n",
            "    accuracy                           0.80       500\n",
            "   macro avg       0.81      0.81      0.80       500\n",
            "weighted avg       0.81      0.80      0.80       500\n",
            "\n"
          ]
        }
      ]
    },
    {
      "cell_type": "markdown",
      "source": [
        "# Predyckja na podstawie modelu"
      ],
      "metadata": {
        "id": "gunRNV4yPvRb"
      }
    },
    {
      "cell_type": "code",
      "source": [
        "new_reviews = ['It was awesome! Very interesting story.',\n",
        "               'I cannot recommend this film. Short and awful.',\n",
        "               'Very long and boring. don\\'t waste your time.',\n",
        "               'Well-organized and quite interesting.']\n",
        "\n",
        "new_reviews_tfidf = tfidf.transform(new_reviews)\n",
        "new_reviews_tfidf"
      ],
      "metadata": {
        "colab": {
          "base_uri": "https://localhost:8080/"
        },
        "id": "DvUgJ3OoPsVX",
        "outputId": "5a04f065-611c-434b-ec78-cdc4d619c131"
      },
      "execution_count": 17,
      "outputs": [
        {
          "output_type": "execute_result",
          "data": {
            "text/plain": [
              "<4x3000 sparse matrix of type '<class 'numpy.float64'>'\n",
              "\twith 24 stored elements in Compressed Sparse Row format>"
            ]
          },
          "metadata": {},
          "execution_count": 17
        }
      ]
    },
    {
      "cell_type": "code",
      "source": [
        "new_reviews_tfidf.toarray()"
      ],
      "metadata": {
        "colab": {
          "base_uri": "https://localhost:8080/"
        },
        "id": "ks0T-qp_QQNs",
        "outputId": "8264955f-1be4-4e8f-9b0f-88740c66310f"
      },
      "execution_count": 18,
      "outputs": [
        {
          "output_type": "execute_result",
          "data": {
            "text/plain": [
              "array([[0.00, 0.00, 0.00, 0.00, 0.00, 0.00, 0.00, 0.00, 0.00, 0.00, ..., 0.00, 0.00, 0.00, 0.00, 0.00, 0.00, 0.00, 0.00, 0.00, 0.00],\n",
              "       [0.00, 0.00, 0.00, 0.00, 0.00, 0.00, 0.00, 0.00, 0.00, 0.00, ..., 0.00, 0.00, 0.00, 0.00, 0.00, 0.00, 0.00, 0.00, 0.00, 0.00],\n",
              "       [0.00, 0.00, 0.00, 0.00, 0.00, 0.00, 0.00, 0.00, 0.00, 0.00, ..., 0.00, 0.00, 0.00, 0.00, 0.00, 0.34, 0.00, 0.00, 0.00, 0.00],\n",
              "       [0.00, 0.00, 0.00, 0.00, 0.00, 0.00, 0.00, 0.00, 0.00, 0.00, ..., 0.00, 0.00, 0.00, 0.00, 0.00, 0.00, 0.00, 0.00, 0.00, 0.00]])"
            ]
          },
          "metadata": {},
          "execution_count": 18
        }
      ]
    },
    {
      "cell_type": "code",
      "source": [
        "new_reviews_pred = classifier.predict(new_reviews_tfidf)\n",
        "new_reviews_pred"
      ],
      "metadata": {
        "colab": {
          "base_uri": "https://localhost:8080/"
        },
        "id": "LArnoQ8qQYaO",
        "outputId": "f41e9442-074b-48aa-ebfe-46e21d9396b8"
      },
      "execution_count": 19,
      "outputs": [
        {
          "output_type": "execute_result",
          "data": {
            "text/plain": [
              "array([1, 0, 0, 1])"
            ]
          },
          "metadata": {},
          "execution_count": 19
        }
      ]
    },
    {
      "cell_type": "code",
      "source": [
        "new_reviews_prod = classifier.predict_proba(new_reviews_tfidf)\n",
        "new_reviews_prod"
      ],
      "metadata": {
        "colab": {
          "base_uri": "https://localhost:8080/"
        },
        "id": "U-gKkZpVQhhc",
        "outputId": "8305621c-cd85-4d9a-f2cc-fea90f6d9c7a"
      },
      "execution_count": 20,
      "outputs": [
        {
          "output_type": "execute_result",
          "data": {
            "text/plain": [
              "array([[0.48, 0.52],\n",
              "       [0.63, 0.37],\n",
              "       [0.77, 0.23],\n",
              "       [0.44, 0.56]])"
            ]
          },
          "metadata": {},
          "execution_count": 20
        }
      ]
    },
    {
      "cell_type": "code",
      "source": [
        "np.argmax(new_reviews_prod, axis=1)"
      ],
      "metadata": {
        "colab": {
          "base_uri": "https://localhost:8080/"
        },
        "id": "02gcstyuQyYa",
        "outputId": "d3965ac3-a61c-4f80-d87f-a64a4dfc953a"
      },
      "execution_count": 22,
      "outputs": [
        {
          "output_type": "execute_result",
          "data": {
            "text/plain": [
              "array([1, 0, 0, 1])"
            ]
          },
          "metadata": {},
          "execution_count": 22
        }
      ]
    },
    {
      "cell_type": "code",
      "source": [
        "movie['target_names']"
      ],
      "metadata": {
        "colab": {
          "base_uri": "https://localhost:8080/"
        },
        "id": "vKQN1RwoQ9u_",
        "outputId": "f44d53e8-430f-4ef4-d28d-24ef193877ac"
      },
      "execution_count": 23,
      "outputs": [
        {
          "output_type": "execute_result",
          "data": {
            "text/plain": [
              "['neg', 'pos']"
            ]
          },
          "metadata": {},
          "execution_count": 23
        }
      ]
    },
    {
      "cell_type": "code",
      "source": [],
      "metadata": {
        "id": "YWoERypaRFlq"
      },
      "execution_count": null,
      "outputs": []
    }
  ]
}