{
  "nbformat": 4,
  "nbformat_minor": 0,
  "metadata": {
    "colab": {
      "provenance": [],
      "authorship_tag": "ABX9TyOeKaVGcY6Byut9i9vjMKkO",
      "include_colab_link": true
    },
    "kernelspec": {
      "name": "python3",
      "display_name": "Python 3"
    },
    "language_info": {
      "name": "python"
    }
  },
  "cells": [
    {
      "cell_type": "markdown",
      "metadata": {
        "id": "view-in-github",
        "colab_type": "text"
      },
      "source": [
        "<a href=\"https://colab.research.google.com/github/MariuszGrecki/Machine_learning_tutorial/blob/main/regression/Regresja.ipynb\" target=\"_parent\"><img src=\"https://colab.research.google.com/assets/colab-badge.svg\" alt=\"Open In Colab\"/></a>"
      ]
    },
    {
      "cell_type": "markdown",
      "source": [
        "**Regresja - Intro**\n",
        "Regresja to technika statystyczna i uczenia maszynowego używana do modelowania zależności między jednym lub wieloma zmiennymi niezależnymi (cechami) a zmienną zależną (wartością docelową lub etykietą), która jest zazwyczaj wartością ciągłą. Celem regresji jest przewidzenie lub modelowanie numerycznych wartości docelowych na podstawie dostępnych danych i zrozumienia, jak zmienne niezależne wpływają na tę zmienną docelową. Istnieje wiele różnych technik regresji, w zależności od charakterystyki danych i rodzaju zależności.\n",
        "\n",
        "\n",
        "\n",
        "Najczęstsze typy regresji to:\n",
        "\n",
        "**Regresja liniowa:** W regresji liniowej zakłada się, że istnieje liniowa zależność między zmiennymi niezależnymi a zmienną docelową. Model regresji liniowej próbuje znaleźć najlepszą liniową aproksymację tej zależności.\n",
        "\n",
        "**Regresja wielomianowa:** W regresji wielomianowej używa się wielomianów jako funkcji modelu, co pozwala na modelowanie bardziej skomplikowanych nieliniowych zależności między zmiennymi.\n",
        "\n",
        "**Regresja logistyczna:** Regresja logistyczna jest używana w przypadku zmiennych zależnych binarnych lub wieloklasowych, co oznacza, że jest stosowana w zadaniach klasyfikacji. Model ten przewiduje prawdopodobieństwo przynależności do danej klasy.\n",
        "\n",
        "**Regresja Poissona:** Ta forma regresji jest używana w przypadku danych z rozkładem Poissona, takich jak dane zliczeniowe, aby modelować zależności między cechami a liczbą zdarzeń.\n",
        "\n",
        "**Regresja Ridge i Lasso:** To odmiany regresji liniowej, które dodają regularyzację w celu zapobieżenia nadmiernemu dopasowaniu modelu do danych.\n",
        "\n",
        "**Regresja drzewa decyzyjnego:** Model regresji drzewa decyzyjnego dzieli dane na podgrupy w oparciu o pewne kryteria, a następnie przewiduje wartości docelowe w każdej podgrupie.\n",
        "\n",
        "**Regresja k-najbliższych sąsiadów (KNN)**: W regresji KNN wartość docelowa jest przewidywana na podstawie wartości docelowych najbliższych sąsiadów w przestrzeni cech.\n",
        "\n",
        "\n",
        "\n",
        "Regresja znajduje szerokie zastosowanie w dziedzinach takich jak nauki społeczne, ekonomia, nauka danych, inżynieria, medycyna, analiza finansowa i wiele innych. Jest również podstawą wielu modeli predykcyjnych i analizy danych, gdzie celem jest przewidywanie wartości numerycznych na podstawie dostępnych danych. W praktyce regresja jest często używana do rozwiązywania problemów takich jak prognozowanie cen, analiza trendów, ocena ryzyka i wiele innych.\n",
        "\n"
      ],
      "metadata": {
        "id": "EvGxtqGlO0d2"
      }
    },
    {
      "cell_type": "code",
      "execution_count": null,
      "metadata": {
        "id": "hyl74XHYOtsV"
      },
      "outputs": [],
      "source": []
    }
  ]
}